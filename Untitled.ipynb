{
 "cells": [
  {
   "cell_type": "code",
   "execution_count": 10,
   "id": "2ca73543",
   "metadata": {},
   "outputs": [],
   "source": [
    "#IMPORT PACKAGES\n",
    "import cv2\n",
    "import matplotlib.pyplot as plt\n",
    "import numpy as np\n",
    "import tensorflow as tf\n",
    "from keras.utils import pad_sequences\n",
    "from keras.models import Sequential\n",
    "from keras.preprocessing import sequence\n",
    "from keras.layers import Dropout\n",
    "from keras.layers import  Dense, Embedding, LSTM, Bidirectional"
   ]
  },
  {
   "cell_type": "code",
   "execution_count": 11,
   "id": "d22d08d2",
   "metadata": {},
   "outputs": [],
   "source": [
    "#READ IMAGE DATASET\n",
    "img = cv2.imread(\"C:/Users/S3TECH-15/Pictures/download.jpg\",1)"
   ]
  },
  {
   "cell_type": "code",
   "execution_count": 12,
   "id": "4b5ecdff",
   "metadata": {},
   "outputs": [
    {
     "name": "stdout",
     "output_type": "stream",
     "text": [
      "(123, 185, 3)\n"
     ]
    }
   ],
   "source": [
    "#IMAGE SHAPE\n",
    "print(img.shape)"
   ]
  },
  {
   "cell_type": "code",
   "execution_count": 13,
   "id": "75cafa2d",
   "metadata": {},
   "outputs": [
    {
     "name": "stdout",
     "output_type": "stream",
     "text": [
      "Dimensions of the image is:nnHeight: 123 pixelsnWidth: 185 pixelsnNumber of Channels: 3\n"
     ]
    }
   ],
   "source": [
    "#IMAGE DIMENSION\n",
    "h, w, c = img.shape\n",
    "print(\"Dimensions of the image is:nnHeight:\", h, \"pixelsnWidth:\", w, \"pixelsnNumber of Channels:\", c)"
   ]
  },
  {
   "cell_type": "code",
   "execution_count": 14,
   "id": "23e66ac3",
   "metadata": {},
   "outputs": [
    {
     "name": "stdout",
     "output_type": "stream",
     "text": [
      "<class 'numpy.ndarray'>\n",
      "uint8\n"
     ]
    }
   ],
   "source": [
    "print(type(img))\n",
    "print(img.dtype)"
   ]
  },
  {
   "cell_type": "code",
   "execution_count": 15,
   "id": "f72a2a79",
   "metadata": {},
   "outputs": [
    {
     "name": "stdout",
     "output_type": "stream",
     "text": [
      "[[[ 58  73  12]\n",
      "  [ 41  56   0]\n",
      "  [ 46  63  12]\n",
      "  ...\n",
      "  [  0  84  65]\n",
      "  [ 36 126 107]\n",
      "  [ 68 159 144]]\n",
      "\n",
      " [[ 28  39   0]\n",
      "  [ 52  64   4]\n",
      "  [ 43  57   3]\n",
      "  ...\n",
      "  [ 67 153 135]\n",
      "  [ 98 183 168]\n",
      "  [ 83 170 156]]\n",
      "\n",
      " [[ 62  68   3]\n",
      "  [ 84  89  27]\n",
      "  [ 87  95  34]\n",
      "  ...\n",
      "  [100 177 163]\n",
      "  [ 75 151 139]\n",
      "  [ 94 173 160]]\n",
      "\n",
      " ...\n",
      "\n",
      " [[  7  57  33]\n",
      "  [ 14  66  42]\n",
      "  [ 17  74  49]\n",
      "  ...\n",
      "  [  4  37   3]\n",
      "  [ 13  46  12]\n",
      "  [ 15  47  16]]\n",
      "\n",
      " [[  0  44  21]\n",
      "  [  6  52  29]\n",
      "  [  9  59  35]\n",
      "  ...\n",
      "  [  5  34   1]\n",
      "  [ 11  42   9]\n",
      "  [ 11  39   9]]\n",
      "\n",
      " [[  0  33  11]\n",
      "  [  0  41  18]\n",
      "  [  0  46  23]\n",
      "  ...\n",
      "  [  4  30   0]\n",
      "  [  9  37   7]\n",
      "  [  4  30   0]]]\n"
     ]
    }
   ],
   "source": [
    "print(img)"
   ]
  },
  {
   "cell_type": "code",
   "execution_count": 16,
   "id": "0d87bc25",
   "metadata": {},
   "outputs": [
    {
     "name": "stdout",
     "output_type": "stream",
     "text": [
      "Enter path of Image : C:/Users/S3TECH-15/Pictures/download.jpg\n",
      "Enter Key for encryption of Image : 55\n",
      "The path of file :  C:/Users/S3TECH-15/Pictures/download.jpg\n",
      "Key for encryption :  55\n",
      "Encryption Done...\n"
     ]
    }
   ],
   "source": [
    "#Encryption Data  image\n",
    "# try block to handle exception\n",
    "try:\n",
    "    # take path of image as a input\n",
    "    path = input(r'Enter path of Image : ')\n",
    "    \n",
    "    # taking encryption key as input\n",
    "    key = int(input('Enter Key for encryption of Image : '))\n",
    "    \n",
    "    # print path of image file and encryption key that\n",
    "    # we are using\n",
    "    print('The path of file : ', path)\n",
    "    print('Key for encryption : ', key)\n",
    "\n",
    "    # open file for reading purpose\n",
    "    fin = open(path, 'rb')\n",
    "\n",
    "    # storing image data in variable \"image\"\n",
    "    image = fin.read()\n",
    "    fin.close()\n",
    "    \n",
    "    # converting image into byte array to\n",
    "    # perform encryption easily on numeric data\n",
    "    image = bytearray(image)\n",
    "\n",
    "    # performing XOR operation on each value of bytearray\n",
    "    for index, values in enumerate(image):\n",
    "        image[index] = values ^ key\n",
    "\n",
    "    # opening file for writing purpose\n",
    "    fin = open(path, 'wb')\n",
    "    \n",
    "    # writing encrypted data in image\n",
    "    fin.write(image)\n",
    "    fin.close()\n",
    "    print('Encryption Done...')\n",
    "    \n",
    "\n",
    "except Exception:\n",
    "    print('Error caught : ', Exception.__name__)\n"
   ]
  },
  {
   "cell_type": "code",
   "execution_count": 8,
   "id": "383ff082",
   "metadata": {},
   "outputs": [],
   "source": [
    "#Black chain algorithm\n",
    "class Transaction:\n",
    "\n",
    "    def __init__(self, sender_address, sender_private_key, recipient_address, value):\n",
    "        self.sender_address = sender_address\n",
    "        self.sender_private_key = sender_private_key\n",
    "        self.recipient_address = recipient_address\n",
    "        self.value = value\n",
    "\n",
    "    def __getattr__(self, attr):\n",
    "        return self.data[attr]\n",
    "\n",
    "    def to_dict(self):\n",
    "        return OrderedDict({'sender_address': self.sender_address,\n",
    "                            'recipient_address': self.recipient_address,\n",
    "                            'value': self.value})\n",
    "\n",
    "    def sign_transaction(self):\n",
    "        \"\"\"\n",
    "        Sign transaction with private key\n",
    "        \"\"\"\n",
    "        private_key = RSA.importKey(binascii.unhexlify(self.sender_private_key))\n",
    "        signer = PKCS1_v1_5.new(private_key)\n",
    "        h = SHA.new(str(self.to_dict()).encode('utf8'))\n",
    "        return binascii.hexlify(signer.sign(h)).decode('ascii')"
   ]
  },
  {
   "cell_type": "code",
   "execution_count": 14,
   "id": "abbc8563",
   "metadata": {},
   "outputs": [
    {
     "name": "stdout",
     "output_type": "stream",
     "text": [
      "Requirement already satisfied: flask in c:\\users\\s3tech-15\\anaconda3\\lib\\site-packages (0.12.2)\n",
      "Requirement already satisfied: Jinja2>=2.4 in c:\\users\\s3tech-15\\anaconda3\\lib\\site-packages (from flask) (2.11.3)\n",
      "Requirement already satisfied: itsdangerous>=0.21 in c:\\users\\s3tech-15\\anaconda3\\lib\\site-packages (from flask) (2.0.1)\n",
      "Requirement already satisfied: click>=2.0 in c:\\users\\s3tech-15\\anaconda3\\lib\\site-packages (from flask) (8.0.4)\n",
      "Requirement already satisfied: Werkzeug>=0.7 in c:\\users\\s3tech-15\\anaconda3\\lib\\site-packages (from flask) (2.0.3)\n",
      "Requirement already satisfied: colorama in c:\\users\\s3tech-15\\anaconda3\\lib\\site-packages (from click>=2.0->flask) (0.4.4)\n",
      "Requirement already satisfied: MarkupSafe>=0.23 in c:\\users\\s3tech-15\\anaconda3\\lib\\site-packages (from Jinja2>=2.4->flask) (2.0.1)\n",
      "Note: you may need to restart the kernel to use updated packages.\n"
     ]
    }
   ],
   "source": [
    "pip install flask"
   ]
  },
  {
   "cell_type": "code",
   "execution_count": 20,
   "id": "e12649c9",
   "metadata": {},
   "outputs": [],
   "source": [
    "from flask import Flask"
   ]
  },
  {
   "cell_type": "code",
   "execution_count": 21,
   "id": "b60f2bfc",
   "metadata": {},
   "outputs": [],
   "source": [
    "app = Flask(__name__)"
   ]
  },
  {
   "cell_type": "code",
   "execution_count": 22,
   "id": "102ca964",
   "metadata": {},
   "outputs": [],
   "source": [
    "#transaction part in the chain\n",
    "@app.route('/')\n",
    "def index():\n",
    "  return render_template('./index.html')\n",
    "\n",
    "@app.route('/make/transaction')\n",
    "def make_transaction():\n",
    "    return render_template('./make_transaction.html')\n",
    "\n",
    "@app.route('/view/transactions')\n",
    "def view_transaction():\n",
    "    return render_template('./view_transactions.html')"
   ]
  },
  {
   "cell_type": "code",
   "execution_count": 23,
   "id": "af321504",
   "metadata": {},
   "outputs": [],
   "source": [
    "#key genrate\n",
    "@app.route('/wallet/new', methods=['GET'])\n",
    "def new_wallet():\n",
    "  random_gen = Crypto.Random.new().read\n",
    "  private_key = RSA.generate(1024, random_gen)\n",
    "  public_key = private_key.publickey()\n",
    "  response = {\n",
    "    'private_key': binascii.hexlify(private_key.exportKey(format='DER')).decode('ascii'),\n",
    "    'public_key': binascii.hexlify(public_key.exportKey(format='DER')).decode('ascii')\n",
    "  }\n",
    "\n",
    "  return jsonify(response), 200"
   ]
  },
  {
   "cell_type": "code",
   "execution_count": 24,
   "id": "ecd403c1",
   "metadata": {},
   "outputs": [],
   "source": [
    "# Sender and Recpient address \n",
    "@app.route('/generate/transaction', methods=['POST'])\n",
    "def generate_transaction():\n",
    "\n",
    "  sender_address = request.form['sender_address']\n",
    "  sender_private_key = request.form['sender_private_key']\n",
    "  recipient_address = request.form['recipient_address']\n",
    "  value = request.form['amount']\n",
    "\n",
    "  transaction = Transaction(sender_address, sender_private_key, recipient_address, value)\n",
    "\n",
    "  response = {'transaction': transaction.to_dict(), 'signature': transaction.sign_transaction()}\n",
    "\n",
    "  return jsonify(response), 200"
   ]
  },
  {
   "cell_type": "code",
   "execution_count": 25,
   "id": "80d9dfe5",
   "metadata": {},
   "outputs": [],
   "source": [
    "class Blockchain:\n",
    "\n",
    "    def __init__(self):\n",
    "\n",
    "        self.transactions = []\n",
    "        self.chain = []\n",
    "        self.nodes = set()\n",
    "        #Generate random number to be used as node_id\n",
    "        self.node_id = str(uuid4()).replace('-', '')\n",
    "        #Create genesis block\n",
    "        self.create_block(0, '00')\n",
    "\n",
    "    def register_node(self, node_url):\n",
    "        \"\"\"\n",
    "        Add a new node to the list of nodes\n",
    "        \"\"\"\n",
    "        ...\n",
    "\n",
    "    def verify_transaction_signature(self, sender_address, signature, transaction):\n",
    "        \"\"\"\n",
    "        Check that the provided signature corresponds to transaction\n",
    "        signed by the public key (sender_address)\n",
    "        \"\"\"\n",
    "        ...\n",
    "\n",
    "    def submit_transaction(self, sender_address, recipient_address, value, signature):\n",
    "        \"\"\"\n",
    "        Add a transaction to transactions array if the signature verified\n",
    "        \"\"\"\n",
    "        ...\n",
    "\n",
    "    def create_block(self, nonce, previous_hash):\n",
    "        \"\"\"\n",
    "        Add a block of transactions to the blockchain\n",
    "        \"\"\"\n",
    "        ...\n",
    "\n",
    "    def hash(self, block):\n",
    "        \"\"\"\n",
    "        Create a SHA-256 hash of a block\n",
    "        \"\"\"\n",
    "        ...\n",
    "\n",
    "    def proof_of_work(self):\n",
    "        \"\"\"\n",
    "        Proof of work algorithm\n",
    "        \"\"\"\n",
    "        ...\n",
    "\n",
    "    \n",
    "    def valid_chain(self, chain):\n",
    "        \"\"\"\n",
    "        check if a bockchain is valid\n",
    "        \"\"\"\n",
    "        ...\n",
    "\n",
    "    def resolve_conflicts(self):\n",
    "        \"\"\"\n",
    "        Resolve conflicts between blockchain's nodes\n",
    "        by replacing our chain with the longest one in the network.\n",
    "        \"\"\"\n",
    "        ..."
   ]
  },
  {
   "cell_type": "code",
   "execution_count": 27,
   "id": "593b0c92",
   "metadata": {},
   "outputs": [],
   "source": [
    "from uuid import uuid4"
   ]
  },
  {
   "cell_type": "code",
   "execution_count": 28,
   "id": "b46ed9b1",
   "metadata": {},
   "outputs": [],
   "source": [
    "blockchain = Blockchain()\n"
   ]
  },
  {
   "cell_type": "code",
   "execution_count": 27,
   "id": "80359788",
   "metadata": {},
   "outputs": [],
   "source": [
    "@app.route('/transactions/new', methods=['POST'])\n",
    "def new_transaction():\n",
    "    values = request.form\n",
    "\n",
    "    # Check that the required fields are in the POST'ed data\n",
    "    required = ['sender_address', 'recipient_address', 'amount', 'signature']\n",
    "    if not all(k in values for k in required):\n",
    "        return 'Missing values', 400\n",
    "    # Create a new Transaction\n",
    "    transaction_result = blockchain.submit_transaction(values['sender_address'], values['recipient_address'], values['amount'], values['signature'])\n",
    "\n",
    "    if transaction_result == False:\n",
    "        response = {'message': 'Invalid Transaction!'}\n",
    "        return jsonify(response), 406\n",
    "    else:\n",
    "        response = {'message': 'Transaction will be added to Block '+ str(transaction_result)}\n",
    "        return jsonify(response), 201\n",
    "\n",
    "@app.route('/transactions/get', methods=['GET'])\n",
    "def get_transactions():\n",
    "    #Get transactions from transactions pool\n",
    "    transactions = blockchain.transactions\n",
    "\n",
    "    response = {'transactions': transactions}\n",
    "    return jsonify(response), 200\n",
    "\n",
    "@app.route('/chain', methods=['GET'])\n",
    "def full_chain():\n",
    "    response = {\n",
    "        'chain': blockchain.chain,\n",
    "        'length': len(blockchain.chain),\n",
    "    }\n",
    "    return jsonify(response), 200\n",
    "\n",
    "@app.route('/mine', methods=['GET'])\n",
    "def mine():\n",
    "    # We run the proof of work algorithm to get the next proof...\n",
    "    last_block = blockchain.chain[-1]\n",
    "    nonce = blockchain.proof_of_work()\n",
    "\n",
    "    # We must receive a reward for finding the proof.\n",
    "    blockchain.submit_transaction(sender_address=MINING_SENDER, recipient_address=blockchain.node_id, value=MINING_REWARD, signature=\"\")\n",
    "\n",
    "    # Forge the new Block by adding it to the chain\n",
    "    previous_hash = blockchain.hash(last_block)\n",
    "    block = blockchain.create_block(nonce, previous_hash)\n",
    "\n",
    "    response = {\n",
    "        'message': \"New Block Forged\",\n",
    "        'block_number': block['block_number'],\n",
    "        'transactions': block['transactions'],\n",
    "        'nonce': block['nonce'],\n",
    "        'previous_hash': block['previous_hash'],\n",
    "    }\n",
    "    return jsonify(response), 200"
   ]
  },
  {
   "cell_type": "code",
   "execution_count": 29,
   "id": "c9ed264c",
   "metadata": {},
   "outputs": [],
   "source": [
    "@app.route('/nodes/register', methods=['POST'])\n",
    "def register_nodes():\n",
    "    values = request.form\n",
    "    nodes = values.get('nodes').replace(\" \", \"\").split(',')\n",
    "\n",
    "    if nodes is None:\n",
    "        return \"Error: Please supply a valid list of nodes\", 400\n",
    "\n",
    "    for node in nodes:\n",
    "        blockchain.register_node(node)\n",
    "\n",
    "    response = {\n",
    "        'message': 'New nodes have been added',\n",
    "        'total_nodes': [node for node in blockchain.nodes],\n",
    "    }\n",
    "    return jsonify(response), 201\n",
    "\n",
    "\n",
    "@app.route('/nodes/resolve', methods=['GET'])\n",
    "def consensus():\n",
    "    replaced = blockchain.resolve_conflicts()\n",
    "\n",
    "    if replaced:\n",
    "        response = {\n",
    "            'message': 'Our chain was replaced',\n",
    "            'new_chain': blockchain.chain\n",
    "        }\n",
    "    else:\n",
    "        response = {\n",
    "            'message': 'Our chain is authoritative',\n",
    "            'chain': blockchain.chain\n",
    "        }\n",
    "    return jsonify(response), 200\n",
    "\n",
    "\n",
    "@app.route('/nodes/get', methods=['GET'])\n",
    "def get_nodes():\n",
    "    nodes = list(blockchain.nodes)\n",
    "    response = {'nodes': nodes}\n",
    "    return jsonify(response), 200"
   ]
  },
  {
   "cell_type": "code",
   "execution_count": 33,
   "id": "3f98e42d",
   "metadata": {},
   "outputs": [],
   "source": [
    "#train and test Data \n",
    "from keras.datasets import imdb\n",
    "(x_train, y_train),(x_test, y_test) = imdb.load_data(num_words=10000)"
   ]
  },
  {
   "cell_type": "code",
   "execution_count": 34,
   "id": "0b76c873",
   "metadata": {},
   "outputs": [],
   "source": [
    "\n",
    "max_len = 200\n",
    "batch_size = 50\n",
    "n_unique_words =10000\n",
    "x_train = tf.keras.preprocessing.sequence.pad_sequences(x_train, maxlen=max_len)\n",
    "x_test = tf.keras.preprocessing.sequence.pad_sequences(x_test, maxlen=max_len)\n",
    "y_test = np.array(y_test)\n",
    "y_train = np.array(y_train)"
   ]
  },
  {
   "cell_type": "code",
   "execution_count": 35,
   "id": "929bfd09",
   "metadata": {},
   "outputs": [
    {
     "name": "stdout",
     "output_type": "stream",
     "text": [
      "Model: \"sequential_2\"\n",
      "_________________________________________________________________\n",
      " Layer (type)                Output Shape              Param #   \n",
      "=================================================================\n",
      " embedding_1 (Embedding)     (None, 200, 128)          1280000   \n",
      "                                                                 \n",
      " bidirectional_1 (Bidirectio  (None, 128)              98816     \n",
      " nal)                                                            \n",
      "                                                                 \n",
      " dropout_1 (Dropout)         (None, 128)               0         \n",
      "                                                                 \n",
      " dense_1 (Dense)             (None, 1)                 129       \n",
      "                                                                 \n",
      "=================================================================\n",
      "Total params: 1,378,945\n",
      "Trainable params: 1,378,945\n",
      "Non-trainable params: 0\n",
      "_________________________________________________________________\n"
     ]
    }
   ],
   "source": [
    "#using LSTM algorithm in model \n",
    "model = Sequential()\n",
    "model.add(Embedding(n_unique_words, 128, input_length=max_len))\n",
    "model.add(Bidirectional(LSTM(64)))\n",
    "model.add(Dropout(0.5))\n",
    "model.add(Dense(1, activation='sigmoid'))\n",
    "model.compile(loss='binary_crossentropy', optimizer='adam', metrics=['accuracy'])\n",
    "model.summary()"
   ]
  },
  {
   "cell_type": "code",
   "execution_count": 36,
   "id": "45775b1c",
   "metadata": {},
   "outputs": [
    {
     "name": "stdout",
     "output_type": "stream",
     "text": [
      "Enter path of Image : C:/Users/S3TECH-15/Pictures/download.jpg\n",
      "Enter Key for encryption of Image : 55\n",
      "The path of file :  C:/Users/S3TECH-15/Pictures/download.jpg\n",
      "Note : Encryption key and Decryption key must be same.\n",
      "Key for Decryption :  55\n",
      "Decryption Done...\n"
     ]
    }
   ],
   "source": [
    "# try block to handle the exception\n",
    "#decrypt the data\n",
    "try:\n",
    "    # take path of image as a input\n",
    "    path = input(r'Enter path of Image : ')\n",
    "    \n",
    "    # taking decryption key as input\n",
    "    key = int(input('Enter Key for encryption of Image : '))\n",
    "    \n",
    "    # print path of image file and decryption key that we are using\n",
    "    print('The path of file : ', path)\n",
    "    print('Note : Encryption key and Decryption key must be same.')\n",
    "    print('Key for Decryption : ', key)\n",
    "    \n",
    "    # open file for reading purpose\n",
    "    fin = open(path, 'rb')\n",
    "    \n",
    "    # storing image data in variable \"image\"\n",
    "    image = fin.read()\n",
    "    fin.close()\n",
    "    \n",
    "    # converting image into byte array to perform decryption easily on numeric data\n",
    "    image = bytearray(image)\n",
    "    # performing XOR operation on each value of bytearray\n",
    "    for index, values in enumerate(image):\n",
    "        image[index] = values ^ key\n",
    "\n",
    "    # opening file for writing purpose\n",
    "    fin = open(path, 'wb')\n",
    "\n",
    "    # writing decryption data in image\n",
    "    fin.write(image)\n",
    "    fin.close()\n",
    "    print('Decryption Done...')\n",
    "\n",
    "\n",
    "except Exception:\n",
    "    print('Error caught : ', Exception.__name__)\n"
   ]
  },
  {
   "cell_type": "code",
   "execution_count": 37,
   "id": "704e4510",
   "metadata": {},
   "outputs": [
    {
     "name": "stdout",
     "output_type": "stream",
     "text": [
      "Epoch 1/5\n",
      "500/500 [==============================] - 201s 389ms/step - loss: 0.4105 - accuracy: 0.8107 - val_loss: 0.3322 - val_accuracy: 0.8650\n",
      "Epoch 2/5\n",
      "500/500 [==============================] - 189s 378ms/step - loss: 0.2466 - accuracy: 0.9046 - val_loss: 0.3516 - val_accuracy: 0.8560\n",
      "Epoch 3/5\n",
      "500/500 [==============================] - 192s 384ms/step - loss: 0.1726 - accuracy: 0.9374 - val_loss: 0.3979 - val_accuracy: 0.8619\n",
      "Epoch 4/5\n",
      "500/500 [==============================] - 182s 364ms/step - loss: 0.1354 - accuracy: 0.9507 - val_loss: 0.4095 - val_accuracy: 0.8509\n",
      "Epoch 5/5\n",
      "500/500 [==============================] - 184s 369ms/step - loss: 0.1022 - accuracy: 0.9635 - val_loss: 0.4802 - val_accuracy: 0.8616\n",
      "[0.4105340540409088, 0.24658630788326263, 0.17257912456989288, 0.13540974259376526, 0.10219985991716385]\n",
      "[0.8107200264930725, 0.9045600295066833, 0.9373599886894226, 0.9507200121879578, 0.9634799957275391]\n"
     ]
    }
   ],
   "source": [
    "history=model.fit(x_train, y_train,\n",
    "           batch_size=batch_size,\n",
    "           epochs=5,\n",
    "           validation_data=[x_test, y_test])\n",
    "print(history.history['loss'])\n",
    "print(history.history['accuracy'])"
   ]
  },
  {
   "cell_type": "code",
   "execution_count": 38,
   "id": "028ae864",
   "metadata": {},
   "outputs": [
    {
     "data": {
      "image/png": "[encoded data removed]",
      "text/plain": [
       "<Figure size 432x288 with 1 Axes>"
      ]
     },
     "metadata": {
      "needs_background": "light"
     },
     "output_type": "display_data"
    }
   ],
   "source": [
    "from matplotlib import pyplot\n",
    "pyplot.plot(history.history['loss'])\n",
    "pyplot.plot(history.history['accuracy'])\n",
    "pyplot.title('model loss vs accuracy')\n",
    "pyplot.xlabel('epoch')\n",
    "pyplot.legend(['loss', 'accuracy'], loc='upper right')\n",
    "pyplot.show()"
   ]
  },
  {
   "cell_type": "code",
   "execution_count": 41,
   "id": "4776c929",
   "metadata": {},
   "outputs": [],
   "source": [
    "#GRu method using evaluate model\n",
    "from keras.layers import Dense,Dropout, GRU, Bidirectional\n",
    "from keras.optimizers import SGD\n",
    "import math\n",
    "from sklearn.metrics import mean_squared_error"
   ]
  },
  {
   "cell_type": "code",
   "execution_count": 42,
   "id": "5363944f",
   "metadata": {},
   "outputs": [],
   "source": [
    "import tensorflow as tf\n",
    "from tensorflow import keras\n",
    "from tensorflow.keras import layers"
   ]
  },
  {
   "cell_type": "code",
   "execution_count": 43,
   "id": "33b6a43b",
   "metadata": {},
   "outputs": [
    {
     "name": "stdout",
     "output_type": "stream",
     "text": [
      "Model: \"sequential_3\"\n",
      "_________________________________________________________________\n",
      " Layer (type)                Output Shape              Param #   \n",
      "=================================================================\n",
      " gru (GRU)                   (None, 64)                18048     \n",
      "                                                                 \n",
      " batch_normalization (BatchN  (None, 64)               256       \n",
      " ormalization)                                                   \n",
      "                                                                 \n",
      " dense_2 (Dense)             (None, 10)                650       \n",
      "                                                                 \n",
      "=================================================================\n",
      "Total params: 18,954\n",
      "Trainable params: 18,826\n",
      "Non-trainable params: 128\n",
      "_________________________________________________________________\n",
      "None\n"
     ]
    }
   ],
   "source": [
    "#Using GRU Algorithm\n",
    "model = keras.Sequential()\n",
    "model.add(layers.GRU(64, input_shape=(28, 28)))\n",
    "model.add(layers.BatchNormalization())\n",
    "model.add(layers.Dense(10))\n",
    "print(model.summary())"
   ]
  },
  {
   "cell_type": "code",
   "execution_count": 44,
   "id": "c3c2491a",
   "metadata": {},
   "outputs": [],
   "source": [
    "mnist = keras.datasets.mnist\n",
    "(x_train, y_train), (x_test, y_test) = mnist.load_data()\n",
    "x_train, x_test = x_train/255.0, x_test/255.0\n",
    "x_validate, y_validate = x_test[:-10], y_test[:-10]\n",
    "x_test, y_test = x_test[-10:], y_test[-10:]"
   ]
  },
  {
   "cell_type": "code",
   "execution_count": 45,
   "id": "88ec8263",
   "metadata": {},
   "outputs": [],
   "source": [
    "#GRU model \n",
    "model.compile(\n",
    "    loss=keras.losses.SparseCategoricalCrossentropy(from_logits=True),\n",
    "    optimizer=\"sgd\",\n",
    "    metrics=[\"accuracy\"],\n",
    ")"
   ]
  },
  {
   "cell_type": "code",
   "execution_count": 46,
   "id": "24c5553d",
   "metadata": {},
   "outputs": [
    {
     "name": "stdout",
     "output_type": "stream",
     "text": [
      "Epoch 1/10\n",
      "938/938 [==============================] - 24s 22ms/step - loss: 1.3982 - accuracy: 0.5337 - val_loss: 0.9753 - val_accuracy: 0.6832\n",
      "Epoch 2/10\n",
      "938/938 [==============================] - 18s 19ms/step - loss: 0.7808 - accuracy: 0.7478 - val_loss: 0.6959 - val_accuracy: 0.7738\n",
      "Epoch 3/10\n",
      "938/938 [==============================] - 18s 20ms/step - loss: 0.4993 - accuracy: 0.8447 - val_loss: 0.3872 - val_accuracy: 0.8819\n",
      "Epoch 4/10\n",
      "938/938 [==============================] - 19s 20ms/step - loss: 0.3844 - accuracy: 0.8821 - val_loss: 0.3023 - val_accuracy: 0.9081\n",
      "Epoch 5/10\n",
      "938/938 [==============================] - 18s 20ms/step - loss: 0.3115 - accuracy: 0.9040 - val_loss: 0.2883 - val_accuracy: 0.9038\n",
      "Epoch 6/10\n",
      "938/938 [==============================] - 19s 20ms/step - loss: 0.2588 - accuracy: 0.9220 - val_loss: 0.2269 - val_accuracy: 0.9277\n",
      "Epoch 7/10\n",
      "938/938 [==============================] - 19s 20ms/step - loss: 0.2169 - accuracy: 0.9341 - val_loss: 0.2045 - val_accuracy: 0.9353\n",
      "Epoch 8/10\n",
      "938/938 [==============================] - 19s 20ms/step - loss: 0.1867 - accuracy: 0.9432 - val_loss: 0.2047 - val_accuracy: 0.9356\n",
      "Epoch 9/10\n",
      "938/938 [==============================] - 19s 20ms/step - loss: 0.1670 - accuracy: 0.9482 - val_loss: 1.7623 - val_accuracy: 0.5162\n",
      "Epoch 10/10\n",
      "938/938 [==============================] - 20s 21ms/step - loss: 0.1507 - accuracy: 0.9535 - val_loss: 0.2454 - val_accuracy: 0.9141\n"
     ]
    },
    {
     "data": {
      "text/plain": [
       "<keras.callbacks.History at 0x250d82dc880>"
      ]
     },
     "execution_count": 46,
     "metadata": {},
     "output_type": "execute_result"
    }
   ],
   "source": [
    "model.fit(\n",
    "    x_train, y_train, validation_data=(x_validate, y_validate), batch_size=64, epochs=10\n",
    ")"
   ]
  },
  {
   "cell_type": "code",
   "execution_count": 47,
   "id": "a50779e3",
   "metadata": {},
   "outputs": [
    {
     "data": {
      "image/png": "[encoded data removed]",
      "text/plain": [
       "<Figure size 432x288 with 1 Axes>"
      ]
     },
     "metadata": {
      "needs_background": "light"
     },
     "output_type": "display_data"
    }
   ],
   "source": [
    "#train and test value graph \n",
    "from matplotlib import pyplot\n",
    "pyplot.plot(history.history['loss'])\n",
    "pyplot.plot(history.history['accuracy'])\n",
    "pyplot.title('model loss vs accuracy')\n",
    "pyplot.xlabel('epoch')\n",
    "pyplot.legend(['loss', 'accuracy'], loc='upper right')\n",
    "pyplot.show()"
   ]
  },
  {
   "cell_type": "code",
   "execution_count": 6,
   "id": "205702d1",
   "metadata": {},
   "outputs": [
    {
     "name": "stdout",
     "output_type": "stream",
     "text": [
      "Requirement already satisfied: cryptography in c:\\users\\s3tech-15\\anaconda3\\lib\\site-packages (3.4.8)\n",
      "Requirement already satisfied: cffi>=1.12 in c:\\users\\s3tech-15\\anaconda3\\lib\\site-packages (from cryptography) (1.15.0)\n",
      "Requirement already satisfied: pycparser in c:\\users\\s3tech-15\\anaconda3\\lib\\site-packages (from cffi>=1.12->cryptography) (2.21)\n"
     ]
    }
   ],
   "source": [
    "\n",
    "import cryptography"
   ]
  },
  {
   "cell_type": "code",
   "execution_count": 7,
   "id": "ad920e4a",
   "metadata": {},
   "outputs": [],
   "source": [
    "# first Layer Encryption framework (Attribute based encryption)\n",
    "def ABE1_encrypt_func():\n",
    "     \n",
    "        \n",
    "    # opening the key\n",
    "    with open('filekey.key', 'rb') as filekey:\n",
    "        key = filekey.read()\n",
    "\n",
    "    # using the generated key\n",
    "    fernet = Fernet(key)\n",
    "\n",
    "    # opening the original file to encrypt\n",
    "    with open('C:/Users/S3TECH-15/Pictures/GST_Collections_India_July2017_July2021.csv', 'rb') as file:\n",
    "        original = file.read()\n",
    "    \n",
    "    # encrypting CP-ABE the file\n",
    "    encrypted = fernet.encrypt(original)\n",
    "\n",
    "    # opening the file in write mode and\n",
    "    # writing the encrypted data\n",
    "    with open('C:/Users/S3TECH-15/Pictures/GST_Collections_India_July2017_July2021.csv', 'wb') as encrypted_file:\n",
    "        encrypted_file.write(encrypted)\n",
    "        "
   ]
  },
  {
   "cell_type": "code",
   "execution_count": 9,
   "id": "79b98e79",
   "metadata": {},
   "outputs": [
    {
     "data": {
      "text/plain": [
       "<function __main__.ABE1_encrypt_func()>"
      ]
     },
     "execution_count": 9,
     "metadata": {},
     "output_type": "execute_result"
    }
   ],
   "source": [
    "ABE1_encrypt_func"
   ]
  },
  {
   "cell_type": "code",
   "execution_count": null,
   "id": "907a5fa0",
   "metadata": {},
   "outputs": [],
   "source": []
  }
 ],
 "metadata": {
  "kernelspec": {
   "display_name": "Python 3 (ipykernel)",
   "language": "python",
   "name": "python3"
  },
  "language_info": {
   "codemirror_mode": {
    "name": "ipython",
    "version": 3
   },
   "file_extension": ".py",
   "mimetype": "text/x-python",
   "name": "python",
   "nbconvert_exporter": "python",
   "pygments_lexer": "ipython3",
   "version": "3.9.13"
  }
 },
 "nbformat": 4,
 "nbformat_minor": 5
}
